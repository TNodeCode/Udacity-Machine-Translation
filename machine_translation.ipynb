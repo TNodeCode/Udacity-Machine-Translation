{
 "cells": [
  {
   "cell_type": "markdown",
   "metadata": {
    "collapsed": true
   },
   "source": [
    "# Artificial Intelligence Nanodegree\n",
    "## Machine Translation Project\n",
    "In this notebook, sections that end with **'(IMPLEMENTATION)'** in the header indicate that the following blocks of code will require additional functionality which you must provide. Please be sure to read the instructions carefully!\n",
    "\n",
    "## Introduction\n",
    "In this notebook, you will build a deep neural network that functions as part of an end-to-end machine translation pipeline. Your completed pipeline will accept English text as input and return the French translation.\n",
    "\n",
    "- **Preprocess** - You'll convert text to sequence of integers.\n",
    "- **Models** Create models which accepts a sequence of integers as input and returns a probability distribution over possible translations. After learning about the basic types of neural networks that are often used for machine translation, you will engage in your own investigations, to design your own model!\n",
    "- **Prediction** Run the model on English text."
   ]
  },
  {
   "cell_type": "code",
   "execution_count": 1,
   "metadata": {},
   "outputs": [],
   "source": [
    "%load_ext autoreload\n",
    "%aimport helper, tests\n",
    "%autoreload 1"
   ]
  },
  {
   "cell_type": "code",
   "execution_count": 2,
   "metadata": {},
   "outputs": [
    {
     "name": "stderr",
     "output_type": "stream",
     "text": [
      "Using TensorFlow backend.\n"
     ]
    }
   ],
   "source": [
    "import collections\n",
    "\n",
    "import helper\n",
    "import numpy as np\n",
    "import project_tests as tests\n",
    "\n",
    "from keras.preprocessing.text import Tokenizer\n",
    "from keras.preprocessing.sequence import pad_sequences\n",
    "from keras.models import Model, Sequential\n",
    "from keras.layers import Input, SimpleRNN, GRU, LSTM, Input, Dense, TimeDistributed, Activation, RepeatVector, Bidirectional\n",
    "from keras.layers.embeddings import Embedding\n",
    "from keras.optimizers import Adam\n",
    "from keras.losses import sparse_categorical_crossentropy"
   ]
  },
  {
   "cell_type": "markdown",
   "metadata": {},
   "source": [
    "### Verify access to the GPU\n",
    "The following test applies only if you expect to be using a GPU, e.g., while running in a Udacity Workspace or using an AWS instance with GPU support. Run the next cell, and verify that the device_type is \"GPU\".\n",
    "- If the device is not GPU & you are running from a Udacity Workspace, then save your workspace with the icon at the top, then click \"enable\" at the bottom of the workspace.\n",
    "- If the device is not GPU & you are running from an AWS instance, then refer to the cloud computing instructions in the classroom to verify your setup steps."
   ]
  },
  {
   "cell_type": "code",
   "execution_count": 3,
   "metadata": {},
   "outputs": [
    {
     "name": "stdout",
     "output_type": "stream",
     "text": [
      "[name: \"/cpu:0\"\n",
      "device_type: \"CPU\"\n",
      "memory_limit: 268435456\n",
      "locality {\n",
      "}\n",
      "incarnation: 6271454055771480804\n",
      ", name: \"/gpu:0\"\n",
      "device_type: \"GPU\"\n",
      "memory_limit: 343146496\n",
      "locality {\n",
      "  bus_id: 1\n",
      "}\n",
      "incarnation: 15140766975360605231\n",
      "physical_device_desc: \"device: 0, name: Tesla K80, pci bus id: 0000:00:04.0\"\n",
      "]\n"
     ]
    }
   ],
   "source": [
    "from tensorflow.python.client import device_lib\n",
    "print(device_lib.list_local_devices())"
   ]
  },
  {
   "cell_type": "markdown",
   "metadata": {},
   "source": [
    "## Dataset\n",
    "We begin by investigating the dataset that will be used to train and evaluate your pipeline.  The most common datasets used for machine translation are from [WMT](http://www.statmt.org/).  However, that will take a long time to train a neural network on.  We'll be using a dataset we created for this project that contains a small vocabulary.  You'll be able to train your model in a reasonable time with this dataset.\n",
    "### Load Data\n",
    "The data is located in `data/small_vocab_en` and `data/small_vocab_fr`. The `small_vocab_en` file contains English sentences with their French translations in the `small_vocab_fr` file. Load the English and French data from these files from running the cell below."
   ]
  },
  {
   "cell_type": "code",
   "execution_count": 4,
   "metadata": {},
   "outputs": [
    {
     "name": "stdout",
     "output_type": "stream",
     "text": [
      "Dataset Loaded\n"
     ]
    }
   ],
   "source": [
    "# Load English data\n",
    "english_sentences = helper.load_data('data/small_vocab_en')\n",
    "# Load French data\n",
    "french_sentences = helper.load_data('data/small_vocab_fr')\n",
    "\n",
    "print('Dataset Loaded')"
   ]
  },
  {
   "cell_type": "markdown",
   "metadata": {},
   "source": [
    "### Files\n",
    "Each line in `small_vocab_en` contains an English sentence with the respective translation in each line of `small_vocab_fr`.  View the first two lines from each file."
   ]
  },
  {
   "cell_type": "code",
   "execution_count": 5,
   "metadata": {},
   "outputs": [
    {
     "name": "stdout",
     "output_type": "stream",
     "text": [
      "small_vocab_en Line 1:  new jersey is sometimes quiet during autumn , and it is snowy in april .\n",
      "small_vocab_fr Line 1:  new jersey est parfois calme pendant l' automne , et il est neigeux en avril .\n",
      "small_vocab_en Line 2:  the united states is usually chilly during july , and it is usually freezing in november .\n",
      "small_vocab_fr Line 2:  les états-unis est généralement froid en juillet , et il gèle habituellement en novembre .\n"
     ]
    }
   ],
   "source": [
    "for sample_i in range(2):\n",
    "    print('small_vocab_en Line {}:  {}'.format(sample_i + 1, english_sentences[sample_i]))\n",
    "    print('small_vocab_fr Line {}:  {}'.format(sample_i + 1, french_sentences[sample_i]))"
   ]
  },
  {
   "cell_type": "markdown",
   "metadata": {},
   "source": [
    "From looking at the sentences, you can see they have been preprocessed already.  The puncuations have been delimited using spaces. All the text have been converted to lowercase.  This should save you some time, but the text requires more preprocessing.\n",
    "### Vocabulary\n",
    "The complexity of the problem is determined by the complexity of the vocabulary.  A more complex vocabulary is a more complex problem.  Let's look at the complexity of the dataset we'll be working with."
   ]
  },
  {
   "cell_type": "code",
   "execution_count": 6,
   "metadata": {},
   "outputs": [
    {
     "name": "stdout",
     "output_type": "stream",
     "text": [
      "1823250 English words.\n",
      "227 unique English words.\n",
      "10 Most common words in the English dataset:\n",
      "\"is\" \",\" \".\" \"in\" \"it\" \"during\" \"the\" \"but\" \"and\" \"sometimes\"\n",
      "\n",
      "1961295 French words.\n",
      "355 unique French words.\n",
      "10 Most common words in the French dataset:\n",
      "\"est\" \".\" \",\" \"en\" \"il\" \"les\" \"mais\" \"et\" \"la\" \"parfois\"\n"
     ]
    }
   ],
   "source": [
    "english_words_counter = collections.Counter([word for sentence in english_sentences for word in sentence.split()])\n",
    "french_words_counter = collections.Counter([word for sentence in french_sentences for word in sentence.split()])\n",
    "\n",
    "print('{} English words.'.format(len([word for sentence in english_sentences for word in sentence.split()])))\n",
    "print('{} unique English words.'.format(len(english_words_counter)))\n",
    "print('10 Most common words in the English dataset:')\n",
    "print('\"' + '\" \"'.join(list(zip(*english_words_counter.most_common(10)))[0]) + '\"')\n",
    "print()\n",
    "print('{} French words.'.format(len([word for sentence in french_sentences for word in sentence.split()])))\n",
    "print('{} unique French words.'.format(len(french_words_counter)))\n",
    "print('10 Most common words in the French dataset:')\n",
    "print('\"' + '\" \"'.join(list(zip(*french_words_counter.most_common(10)))[0]) + '\"')"
   ]
  },
  {
   "cell_type": "markdown",
   "metadata": {},
   "source": [
    "For comparison, _Alice's Adventures in Wonderland_ contains 2,766 unique words of a total of 15,500 words.\n",
    "## Preprocess\n",
    "For this project, you won't use text data as input to your model. Instead, you'll convert the text into sequences of integers using the following preprocess methods:\n",
    "1. Tokenize the words into ids\n",
    "2. Add padding to make all the sequences the same length.\n",
    "\n",
    "Time to start preprocessing the data...\n",
    "### Tokenize (IMPLEMENTATION)\n",
    "For a neural network to predict on text data, it first has to be turned into data it can understand. Text data like \"dog\" is a sequence of ASCII character encodings.  Since a neural network is a series of multiplication and addition operations, the input data needs to be number(s).\n",
    "\n",
    "We can turn each character into a number or each word into a number.  These are called character and word ids, respectively.  Character ids are used for character level models that generate text predictions for each character.  A word level model uses word ids that generate text predictions for each word.  Word level models tend to learn better, since they are lower in complexity, so we'll use those.\n",
    "\n",
    "Turn each sentence into a sequence of words ids using Keras's [`Tokenizer`](https://keras.io/preprocessing/text/#tokenizer) function. Use this function to tokenize `english_sentences` and `french_sentences` in the cell below.\n",
    "\n",
    "Running the cell will run `tokenize` on sample data and show output for debugging."
   ]
  },
  {
   "cell_type": "code",
   "execution_count": 7,
   "metadata": {},
   "outputs": [
    {
     "name": "stdout",
     "output_type": "stream",
     "text": [
      "{'the': 1, 'quick': 2, 'a': 3, 'brown': 4, 'fox': 5, 'jumps': 6, 'over': 7, 'lazy': 8, 'dog': 9, 'by': 10, 'jove': 11, 'my': 12, 'study': 13, 'of': 14, 'lexicography': 15, 'won': 16, 'prize': 17, 'this': 18, 'is': 19, 'short': 20, 'sentence': 21}\n",
      "\n",
      "Sequence 1 in x\n",
      "  Input:  The quick brown fox jumps over the lazy dog .\n",
      "  Output: [1, 2, 4, 5, 6, 7, 1, 8, 9]\n",
      "Sequence 2 in x\n",
      "  Input:  By Jove , my quick study of lexicography won a prize .\n",
      "  Output: [10, 11, 12, 2, 13, 14, 15, 16, 3, 17]\n",
      "Sequence 3 in x\n",
      "  Input:  This is a short sentence .\n",
      "  Output: [18, 19, 3, 20, 21]\n"
     ]
    }
   ],
   "source": [
    "def tokenize(x):\n",
    "    \"\"\"\n",
    "    Tokenize x\n",
    "    :param x: List of sentences/strings to be tokenized\n",
    "    :return: Tuple of (tokenized x data, tokenizer used to tokenize x)\n",
    "    \"\"\"\n",
    "    # TODO: Implement\n",
    "    tokenizer = Tokenizer(num_words=5000)\n",
    "    tokenizer.fit_on_texts(x)\n",
    "    tokens = tokenizer.texts_to_sequences(x)\n",
    "    return tokens, tokenizer\n",
    "tests.test_tokenize(tokenize)\n",
    "\n",
    "# Tokenize Example output\n",
    "text_sentences = [\n",
    "    'The quick brown fox jumps over the lazy dog .',\n",
    "    'By Jove , my quick study of lexicography won a prize .',\n",
    "    'This is a short sentence .']\n",
    "text_tokenized, text_tokenizer = tokenize(text_sentences)\n",
    "print(text_tokenizer.word_index)\n",
    "print()\n",
    "for sample_i, (sent, token_sent) in enumerate(zip(text_sentences, text_tokenized)):\n",
    "    print('Sequence {} in x'.format(sample_i + 1))\n",
    "    print('  Input:  {}'.format(sent))\n",
    "    print('  Output: {}'.format(token_sent))"
   ]
  },
  {
   "cell_type": "markdown",
   "metadata": {},
   "source": [
    "### Padding (IMPLEMENTATION)\n",
    "When batching the sequence of word ids together, each sequence needs to be the same length.  Since sentences are dynamic in length, we can add padding to the end of the sequences to make them the same length.\n",
    "\n",
    "Make sure all the English sequences have the same length and all the French sequences have the same length by adding padding to the **end** of each sequence using Keras's [`pad_sequences`](https://keras.io/preprocessing/sequence/#pad_sequences) function."
   ]
  },
  {
   "cell_type": "code",
   "execution_count": 8,
   "metadata": {},
   "outputs": [
    {
     "name": "stdout",
     "output_type": "stream",
     "text": [
      "Sequence 1 in x\n",
      "  Input:  [1 2 4 5 6 7 1 8 9]\n",
      "  Output: [1 2 4 5 6 7 1 8 9 0]\n",
      "Sequence 2 in x\n",
      "  Input:  [10 11 12  2 13 14 15 16  3 17]\n",
      "  Output: [10 11 12  2 13 14 15 16  3 17]\n",
      "Sequence 3 in x\n",
      "  Input:  [18 19  3 20 21]\n",
      "  Output: [18 19  3 20 21  0  0  0  0  0]\n"
     ]
    }
   ],
   "source": [
    "def pad(x, length=None):\n",
    "    \"\"\"\n",
    "    Pad x\n",
    "    :param x: List of sequences.\n",
    "    :param length: Length to pad the sequence to.  If None, use length of longest sequence in x.\n",
    "    :return: Padded numpy array of sequences\n",
    "    \"\"\"\n",
    "    # TODO: Implement\n",
    "    if not length:\n",
    "        length = max([len(s) for s in x])\n",
    "    return pad_sequences(x, maxlen=length, padding='post')\n",
    "tests.test_pad(pad)\n",
    "\n",
    "# Pad Tokenized output\n",
    "test_pad = pad(text_tokenized)\n",
    "for sample_i, (token_sent, pad_sent) in enumerate(zip(text_tokenized, test_pad)):\n",
    "    print('Sequence {} in x'.format(sample_i + 1))\n",
    "    print('  Input:  {}'.format(np.array(token_sent)))\n",
    "    print('  Output: {}'.format(pad_sent))"
   ]
  },
  {
   "cell_type": "markdown",
   "metadata": {},
   "source": [
    "### Preprocess Pipeline\n",
    "Your focus for this project is to build neural network architecture, so we won't ask you to create a preprocess pipeline.  Instead, we've provided you with the implementation of the `preprocess` function."
   ]
  },
  {
   "cell_type": "code",
   "execution_count": 9,
   "metadata": {},
   "outputs": [
    {
     "name": "stdout",
     "output_type": "stream",
     "text": [
      "Data Preprocessed\n",
      "Max English sentence length: 15\n",
      "Max French sentence length: 21\n",
      "English vocabulary size: 199\n",
      "French vocabulary size: 344\n"
     ]
    }
   ],
   "source": [
    "def preprocess(x, y):\n",
    "    \"\"\"\n",
    "    Preprocess x and y\n",
    "    :param x: Feature List of sentences\n",
    "    :param y: Label List of sentences\n",
    "    :return: Tuple of (Preprocessed x, Preprocessed y, x tokenizer, y tokenizer)\n",
    "    \"\"\"\n",
    "    preprocess_x, x_tk = tokenize(x)\n",
    "    preprocess_y, y_tk = tokenize(y)\n",
    "\n",
    "    preprocess_x = pad(preprocess_x)\n",
    "    preprocess_y = pad(preprocess_y)\n",
    "\n",
    "    # Keras's sparse_categorical_crossentropy function requires the labels to be in 3 dimensions\n",
    "    preprocess_y = preprocess_y.reshape(*preprocess_y.shape, 1)\n",
    "\n",
    "    return preprocess_x, preprocess_y, x_tk, y_tk\n",
    "\n",
    "preproc_english_sentences, preproc_french_sentences, english_tokenizer, french_tokenizer =\\\n",
    "    preprocess(english_sentences, french_sentences)\n",
    "    \n",
    "max_english_sequence_length = preproc_english_sentences.shape[1]\n",
    "max_french_sequence_length = preproc_french_sentences.shape[1]\n",
    "english_vocab_size = len(english_tokenizer.word_index)\n",
    "french_vocab_size = len(french_tokenizer.word_index)\n",
    "\n",
    "print('Data Preprocessed')\n",
    "print(\"Max English sentence length:\", max_english_sequence_length)\n",
    "print(\"Max French sentence length:\", max_french_sequence_length)\n",
    "print(\"English vocabulary size:\", english_vocab_size)\n",
    "print(\"French vocabulary size:\", french_vocab_size)"
   ]
  },
  {
   "cell_type": "markdown",
   "metadata": {},
   "source": [
    "## Models\n",
    "In this section, you will experiment with various neural network architectures.\n",
    "You will begin by training four relatively simple architectures.\n",
    "- Model 1 is a simple RNN\n",
    "- Model 2 is a RNN with Embedding\n",
    "- Model 3 is a Bidirectional RNN\n",
    "- Model 4 is an Encoder-Decoder RNN\n",
    "\n",
    "After experimenting with the four simple architectures, you will construct a deeper architecture that is designed to outperform all four models.\n",
    "### Ids Back to Text\n",
    "The neural network will be translating the input to words ids, which isn't the final form we want.  We want the French translation.  The function `logits_to_text` will bridge the gab between the logits from the neural network to the French translation.  You'll be using this function to better understand the output of the neural network."
   ]
  },
  {
   "cell_type": "code",
   "execution_count": 10,
   "metadata": {},
   "outputs": [
    {
     "name": "stdout",
     "output_type": "stream",
     "text": [
      "`logits_to_text` function loaded.\n"
     ]
    }
   ],
   "source": [
    "def logits_to_text(logits, tokenizer):\n",
    "    \"\"\"\n",
    "    Turn logits from a neural network into text using the tokenizer\n",
    "    :param logits: Logits from a neural network\n",
    "    :param tokenizer: Keras Tokenizer fit on the labels\n",
    "    :return: String that represents the text of the logits\n",
    "    \"\"\"\n",
    "    index_to_words = {id: word for word, id in tokenizer.word_index.items()}\n",
    "    index_to_words[0] = '<PAD>'\n",
    "\n",
    "    return ' '.join([index_to_words[prediction] for prediction in np.argmax(logits, 1)])\n",
    "\n",
    "print('`logits_to_text` function loaded.')"
   ]
  },
  {
   "cell_type": "markdown",
   "metadata": {},
   "source": [
    "### Model 1: RNN (IMPLEMENTATION)\n",
    "![RNN](images/rnn.png)\n",
    "A basic RNN model is a good baseline for sequence data.  In this model, you'll build a RNN that translates English to French."
   ]
  },
  {
   "cell_type": "code",
   "execution_count": 11,
   "metadata": {},
   "outputs": [
    {
     "name": "stdout",
     "output_type": "stream",
     "text": [
      "Train on 110288 samples, validate on 27573 samples\n",
      "Epoch 1/15\n",
      "110288/110288 [==============================] - 16s 145us/step - loss: 6.2176 - acc: 0.4008 - val_loss: nan - val_acc: 0.3974\n",
      "Epoch 2/15\n",
      "110288/110288 [==============================] - 15s 135us/step - loss: 5.1043 - acc: 0.3929 - val_loss: nan - val_acc: 0.4535\n",
      "Epoch 3/15\n",
      "110288/110288 [==============================] - 15s 135us/step - loss: 4.1443 - acc: 0.4309 - val_loss: nan - val_acc: 0.4093\n",
      "Epoch 4/15\n",
      "110288/110288 [==============================] - 15s 136us/step - loss: 3.9338 - acc: 0.4082 - val_loss: nan - val_acc: 0.4093\n",
      "Epoch 5/15\n",
      "110288/110288 [==============================] - 15s 136us/step - loss: 3.9027 - acc: 0.4082 - val_loss: nan - val_acc: 0.4093\n",
      "Epoch 6/15\n",
      "110288/110288 [==============================] - 15s 138us/step - loss: 3.9323 - acc: 0.4082 - val_loss: nan - val_acc: 0.4093\n",
      "Epoch 7/15\n",
      "110288/110288 [==============================] - 15s 136us/step - loss: 3.8462 - acc: 0.4082 - val_loss: nan - val_acc: 0.4093\n",
      "Epoch 8/15\n",
      "110288/110288 [==============================] - 15s 134us/step - loss: 4.0188 - acc: 0.4082 - val_loss: nan - val_acc: 0.4093\n",
      "Epoch 9/15\n",
      "110288/110288 [==============================] - 15s 135us/step - loss: 4.2136 - acc: 0.4082 - val_loss: nan - val_acc: 0.4093\n",
      "Epoch 10/15\n",
      "110288/110288 [==============================] - 15s 134us/step - loss: 3.9864 - acc: 0.4082 - val_loss: nan - val_acc: 0.4093\n",
      "Epoch 11/15\n",
      "110288/110288 [==============================] - 15s 133us/step - loss: 4.0149 - acc: 0.4082 - val_loss: nan - val_acc: 0.4093\n",
      "Epoch 12/15\n",
      "110288/110288 [==============================] - 15s 135us/step - loss: 3.9854 - acc: 0.4082 - val_loss: nan - val_acc: 0.4093\n",
      "Epoch 13/15\n",
      "110288/110288 [==============================] - 15s 136us/step - loss: 3.9392 - acc: 0.4082 - val_loss: nan - val_acc: 0.4093\n",
      "Epoch 14/15\n",
      "110288/110288 [==============================] - 15s 135us/step - loss: 4.1413 - acc: 0.4087 - val_loss: nan - val_acc: 0.4093\n",
      "Epoch 15/15\n",
      "110288/110288 [==============================] - 15s 135us/step - loss: 3.9638 - acc: 0.4082 - val_loss: nan - val_acc: 0.4093\n",
      "<PAD> <PAD> <PAD> <PAD> <PAD> <PAD> <PAD> <PAD> <PAD> <PAD> <PAD> <PAD> <PAD> <PAD> <PAD> <PAD> <PAD> <PAD> <PAD> <PAD> <PAD>\n"
     ]
    }
   ],
   "source": [
    "def simple_model(input_shape, output_sequence_length, english_vocab_size, french_vocab_size):\n",
    "    \"\"\"\n",
    "    Build and train a basic RNN on x and y\n",
    "    :param input_shape: Tuple of input shape\n",
    "    :param output_sequence_length: Length of output sequence\n",
    "    :param english_vocab_size: Number of unique English words in the dataset\n",
    "    :param french_vocab_size: Number of unique French words in the dataset\n",
    "    :return: Keras model built, but not trained\n",
    "    \"\"\"\n",
    "    # TODO: Build the layers\n",
    "    model = Sequential()\n",
    "    model.add(LSTM(256, input_shape=input_shape[1:], return_sequences=True))\n",
    "    model.add(Dense(256, activation='relu'))\n",
    "    model.add(Dense(french_vocab_size, activation='relu'))\n",
    "    model.compile(loss=sparse_categorical_crossentropy,\n",
    "                  optimizer=Adam(1e-3),\n",
    "                  metrics=['accuracy'])\n",
    "    return model\n",
    "tests.test_simple_model(simple_model)\n",
    "\n",
    "# Reshaping the input to work with a basic RNN\n",
    "tmp_x = pad(preproc_english_sentences, max_french_sequence_length)\n",
    "tmp_x = tmp_x.reshape((-1, preproc_french_sentences.shape[-2], 1))\n",
    "\n",
    "# Train the neural network\n",
    "simple_rnn_model = simple_model(\n",
    "    tmp_x.shape,\n",
    "    max_french_sequence_length,\n",
    "    english_vocab_size,\n",
    "    french_vocab_size)\n",
    "simple_rnn_model.fit(tmp_x, preproc_french_sentences, batch_size=1024, epochs=15, validation_split=0.2)\n",
    "\n",
    "# Print prediction(s)\n",
    "print(logits_to_text(simple_rnn_model.predict(tmp_x[:1])[0], french_tokenizer))"
   ]
  },
  {
   "cell_type": "markdown",
   "metadata": {},
   "source": [
    "### Model 2: Embedding (IMPLEMENTATION)\n",
    "![RNN](images/embedding.png)\n",
    "You've turned the words into ids, but there's a better representation of a word.  This is called word embeddings.  An embedding is a vector representation of the word that is close to similar words in n-dimensional space, where the n represents the size of the embedding vectors.\n",
    "\n",
    "In this model, you'll create a RNN model using embedding."
   ]
  },
  {
   "cell_type": "code",
   "execution_count": 12,
   "metadata": {},
   "outputs": [
    {
     "name": "stdout",
     "output_type": "stream",
     "text": [
      "Train on 110288 samples, validate on 27573 samples\n",
      "Epoch 1/15\n",
      "110288/110288 [==============================] - 46s 420us/step - loss: 2.3816 - acc: 0.5103 - val_loss: 1.5550 - val_acc: 0.59604064 \n",
      "Epoch 2/15\n",
      "110288/110288 [==============================] - 46s 414us/step - loss: 1.2215 - acc: 0.6780 - val_loss: 0.9392 - val_acc: 0.7439\n",
      "Epoch 3/15\n",
      "110288/110288 [==============================] - 46s 414us/step - loss: 0.7607 - acc: 0.7929 - val_loss: 0.6057 - val_acc: 0.8350\n",
      "Epoch 4/15\n",
      "110288/110288 [==============================] - 46s 413us/step - loss: 0.5062 - acc: 0.8563 - val_loss: 0.4295 - val_acc: 0.8743\n",
      "Epoch 5/15\n",
      "110288/110288 [==============================] - 46s 413us/step - loss: 0.3876 - acc: 0.8825 - val_loss: 0.3478 - val_acc: 0.8935\n",
      "Epoch 6/15\n",
      "110288/110288 [==============================] - 46s 414us/step - loss: 0.3271 - acc: 0.8979 - val_loss: 0.3103 - val_acc: 0.9024\n",
      "Epoch 7/15\n",
      "110288/110288 [==============================] - 46s 415us/step - loss: 0.2915 - acc: 0.9075 - val_loss: 0.2821 - val_acc: 0.91042s\n",
      "Epoch 8/15\n",
      "110288/110288 [==============================] - 46s 414us/step - loss: 0.2659 - acc: 0.9144 - val_loss: 0.2575 - val_acc: 0.9173\n",
      "Epoch 9/15\n",
      "110288/110288 [==============================] - 46s 414us/step - loss: 0.2467 - acc: 0.9192 - val_loss: 0.2418 - val_acc: 0.9211\n",
      "Epoch 10/15\n",
      "110288/110288 [==============================] - 46s 414us/step - loss: 0.2318 - acc: 0.9230 - val_loss: 0.2342 - val_acc: 0.9218\n",
      "Epoch 11/15\n",
      "110288/110288 [==============================] - 46s 413us/step - loss: 0.2209 - acc: 0.9258 - val_loss: 0.2236 - val_acc: 0.9253\n",
      "Epoch 12/15\n",
      "110288/110288 [==============================] - 45s 412us/step - loss: 0.2123 - acc: 0.9279 - val_loss: 0.2258 - val_acc: 0.9238\n",
      "Epoch 13/15\n",
      "110288/110288 [==============================] - 46s 415us/step - loss: 0.2051 - acc: 0.9298 - val_loss: 0.2080 - val_acc: 0.9296\n",
      "Epoch 14/15\n",
      "110288/110288 [==============================] - 46s 414us/step - loss: 0.1987 - acc: 0.9315 - val_loss: 0.2055 - val_acc: 0.9299\n",
      "Epoch 15/15\n",
      "110288/110288 [==============================] - 46s 416us/step - loss: 0.1932 - acc: 0.9329 - val_loss: 0.1974 - val_acc: 0.9326\n",
      "new jersey est parfois calme en l' automne et il est neigeux en avril <PAD> <PAD> <PAD> <PAD> <PAD> <PAD> <PAD>\n"
     ]
    }
   ],
   "source": [
    "def embed_model(input_shape, output_sequence_length, english_vocab_size, french_vocab_size):\n",
    "    \"\"\"\n",
    "    Build and train a RNN model using word embedding on x and y\n",
    "    :param input_shape: Tuple of input shape\n",
    "    :param output_sequence_length: Length of output sequence\n",
    "    :param english_vocab_size: Number of unique English words in the dataset\n",
    "    :param french_vocab_size: Number of unique French words in the dataset\n",
    "    :return: Keras model built, but not trained\n",
    "    \"\"\"\n",
    "    # TODO: Implement\n",
    "    model = Sequential()\n",
    "    model.add(Embedding(input_dim=english_vocab_size, output_dim=32, input_length=input_shape[1]))\n",
    "    model.add(LSTM(256, return_sequences=True))\n",
    "    model.add(Dense(french_vocab_size, activation='softmax'))\n",
    "    model.compile(loss=sparse_categorical_crossentropy,\n",
    "                  optimizer=Adam(1e-3),\n",
    "                  metrics=['accuracy'])\n",
    "    return model\n",
    "tests.test_embed_model(embed_model)\n",
    "\n",
    "\n",
    "# TODO: Reshape the input\n",
    "tmp_x = pad(preproc_english_sentences, max_french_sequence_length)\n",
    "\n",
    "# TODO: Train the neural network\n",
    "model = embed_model(\n",
    "    tmp_x.shape,\n",
    "    max_french_sequence_length,\n",
    "    english_vocab_size + 1,\n",
    "    french_vocab_size + 1\n",
    ")\n",
    "model.fit(tmp_x, preproc_french_sentences, batch_size=256, epochs=15, validation_split=0.2)\n",
    "\n",
    "# TODO: Print prediction(s)\n",
    "print(logits_to_text(model.predict(tmp_x[:1])[0], french_tokenizer))"
   ]
  },
  {
   "cell_type": "markdown",
   "metadata": {},
   "source": [
    "### Model 3: Bidirectional RNNs (IMPLEMENTATION)\n",
    "![RNN](images/bidirectional.png)\n",
    "One restriction of a RNN is that it can't see the future input, only the past.  This is where bidirectional recurrent neural networks come in.  They are able to see the future data."
   ]
  },
  {
   "cell_type": "code",
   "execution_count": 14,
   "metadata": {},
   "outputs": [
    {
     "name": "stdout",
     "output_type": "stream",
     "text": [
      "Train on 110288 samples, validate on 27573 samples\n",
      "Epoch 1/15\n",
      "110288/110288 [==============================] - 80s 721us/step - loss: 1.5416 - acc: 0.6083 - val_loss: 1.1775 - val_acc: 0.6568\n",
      "Epoch 2/15\n",
      "110288/110288 [==============================] - 80s 729us/step - loss: 1.1007 - acc: 0.6722 - val_loss: 1.0354 - val_acc: 0.6856\n",
      "Epoch 3/15\n",
      "110288/110288 [==============================] - 80s 725us/step - loss: 0.9885 - acc: 0.6935 - val_loss: 0.9486 - val_acc: 0.6996\n",
      "Epoch 4/15\n",
      "110288/110288 [==============================] - 81s 736us/step - loss: 0.9227 - acc: 0.7045 - val_loss: 0.9002 - val_acc: 0.7096\n",
      "Epoch 5/15\n",
      "110288/110288 [==============================] - 81s 733us/step - loss: 0.8772 - acc: 0.7131 - val_loss: 0.8576 - val_acc: 0.7181\n",
      "Epoch 6/15\n",
      "110288/110288 [==============================] - 80s 723us/step - loss: 0.8400 - acc: 0.7214 - val_loss: 0.8210 - val_acc: 0.7262\n",
      "Epoch 7/15\n",
      "110288/110288 [==============================] - 76s 687us/step - loss: 0.7984 - acc: 0.7373 - val_loss: 0.7766 - val_acc: 0.7482\n",
      "Epoch 8/15\n",
      "110288/110288 [==============================] - 75s 684us/step - loss: 0.7698 - acc: 0.7508 - val_loss: 0.7457 - val_acc: 0.7574\n",
      "Epoch 9/15\n",
      "110288/110288 [==============================] - 76s 692us/step - loss: 0.7184 - acc: 0.7658 - val_loss: 0.7012 - val_acc: 0.7696\n",
      "Epoch 10/15\n",
      "110288/110288 [==============================] - 79s 721us/step - loss: 0.6888 - acc: 0.7740 - val_loss: 0.6805 - val_acc: 0.7769\n",
      "Epoch 11/15\n",
      "110288/110288 [==============================] - 79s 721us/step - loss: 0.6629 - acc: 0.7819 - val_loss: 0.6540 - val_acc: 0.7858\n",
      "Epoch 12/15\n",
      "110288/110288 [==============================] - 79s 719us/step - loss: 0.6401 - acc: 0.7899 - val_loss: 0.6297 - val_acc: 0.7915\n",
      "Epoch 13/15\n",
      "110288/110288 [==============================] - 79s 716us/step - loss: 0.6203 - acc: 0.7956 - val_loss: 0.6121 - val_acc: 0.7984\n",
      "Epoch 14/15\n",
      "110288/110288 [==============================] - 79s 717us/step - loss: 0.6023 - acc: 0.8015 - val_loss: 0.6016 - val_acc: 0.7998\n",
      "Epoch 15/15\n",
      "110288/110288 [==============================] - 78s 708us/step - loss: 0.5836 - acc: 0.8080 - val_loss: 0.5787 - val_acc: 0.8105\n",
      "new jersey est parfois calme au l' de il est chaud en avril <PAD> <PAD> <PAD> <PAD> <PAD> <PAD> <PAD> <PAD>\n"
     ]
    }
   ],
   "source": [
    "def bd_model(input_shape, output_sequence_length, english_vocab_size, french_vocab_size):\n",
    "    \"\"\"\n",
    "    Build and train a bidirectional RNN model on x and y\n",
    "    :param input_shape: Tuple of input shape\n",
    "    :param output_sequence_length: Length of output sequence\n",
    "    :param english_vocab_size: Number of unique English words in the dataset\n",
    "    :param french_vocab_size: Number of unique French words in the dataset\n",
    "    :return: Keras model built, but not trained\n",
    "    \"\"\"\n",
    "    # TODO: Implement\n",
    "    model = Sequential()\n",
    "    model.add(Bidirectional(LSTM(256, return_sequences=True), input_shape=input_shape[1:]))\n",
    "    model.add(Dense(french_vocab_size, activation='softmax'))\n",
    "    model.compile(loss=sparse_categorical_crossentropy,\n",
    "                  optimizer=Adam(1e-3),\n",
    "                  metrics=['accuracy'])\n",
    "    return model\n",
    "tests.test_bd_model(bd_model)\n",
    "\n",
    "\n",
    "# TODO: Reshape the input\n",
    "tmp_x = pad(preproc_english_sentences, max_french_sequence_length)\n",
    "tmp_x = tmp_x.reshape((-1, preproc_french_sentences.shape[-2], 1))\n",
    "\n",
    "# TODO: Train the neural network\n",
    "model = bd_model(\n",
    "    tmp_x.shape,\n",
    "    max_french_sequence_length,\n",
    "    english_vocab_size + 1,\n",
    "    french_vocab_size + 1\n",
    ")\n",
    "model.fit(tmp_x, preproc_french_sentences, batch_size=256, epochs=15, validation_split=0.2)\n",
    "\n",
    "# TODO: Print prediction(s)\n",
    "print(logits_to_text(model.predict(tmp_x[:1])[0], french_tokenizer))"
   ]
  },
  {
   "cell_type": "markdown",
   "metadata": {},
   "source": [
    "### Model 4: Encoder-Decoder (IMPLEMENTATION)\n",
    "Time to look at encoder-decoder models.  This model is made up of an encoder and decoder. The encoder creates a matrix representation of the sentence.  The decoder takes this matrix as input and predicts the translation as output.\n",
    "\n",
    "Create an encoder-decoder model in the cell below."
   ]
  },
  {
   "cell_type": "code",
   "execution_count": 15,
   "metadata": {},
   "outputs": [
    {
     "name": "stdout",
     "output_type": "stream",
     "text": [
      "Train on 110288 samples, validate on 27573 samples\n",
      "Epoch 1/15\n",
      "110288/110288 [==============================] - 92s 834us/step - loss: 1.9451 - acc: 0.5391 - val_loss: 1.4225 - val_acc: 0.6033\n",
      "Epoch 2/15\n",
      "110288/110288 [==============================] - 91s 825us/step - loss: 1.3048 - acc: 0.6249 - val_loss: 1.2144 - val_acc: 0.6383\n",
      "Epoch 3/15\n",
      "110288/110288 [==============================] - 91s 823us/step - loss: 1.1790 - acc: 0.6440 - val_loss: 1.1165 - val_acc: 0.6538\n",
      "Epoch 4/15\n",
      "110288/110288 [==============================] - 91s 826us/step - loss: 1.0691 - acc: 0.6666 - val_loss: 1.0218 - val_acc: 0.6768\n",
      "Epoch 5/15\n",
      "110288/110288 [==============================] - 91s 824us/step - loss: 0.9609 - acc: 0.6959 - val_loss: 0.9195 - val_acc: 0.7074\n",
      "Epoch 6/15\n",
      "110288/110288 [==============================] - 91s 829us/step - loss: 0.8883 - acc: 0.7146 - val_loss: 0.8370 - val_acc: 0.7288\n",
      "Epoch 7/15\n",
      "110288/110288 [==============================] - 91s 826us/step - loss: 0.8291 - acc: 0.7278 - val_loss: 0.8201 - val_acc: 0.7240\n",
      "Epoch 8/15\n",
      "110288/110288 [==============================] - 91s 825us/step - loss: 0.7767 - acc: 0.7392 - val_loss: 0.7664 - val_acc: 0.7408\n",
      "Epoch 9/15\n",
      "110288/110288 [==============================] - 91s 826us/step - loss: 0.7074 - acc: 0.7560 - val_loss: 0.6956 - val_acc: 0.7539\n",
      "Epoch 10/15\n",
      "110288/110288 [==============================] - 91s 827us/step - loss: 0.6743 - acc: 0.7632 - val_loss: 0.6483 - val_acc: 0.7720\n",
      "Epoch 11/15\n",
      "110288/110288 [==============================] - 91s 826us/step - loss: 0.6259 - acc: 0.7781 - val_loss: 0.6160 - val_acc: 0.7792\n",
      "Epoch 12/15\n",
      "110288/110288 [==============================] - 91s 824us/step - loss: 0.5892 - acc: 0.7867 - val_loss: 0.5560 - val_acc: 0.7957\n",
      "Epoch 13/15\n",
      "110288/110288 [==============================] - 91s 826us/step - loss: 0.5610 - acc: 0.7966 - val_loss: 0.5951 - val_acc: 0.7778\n",
      "Epoch 14/15\n",
      "110288/110288 [==============================] - 91s 829us/step - loss: 0.5300 - acc: 0.8050 - val_loss: 0.6297 - val_acc: 0.7674\n",
      "Epoch 15/15\n",
      "110288/110288 [==============================] - 91s 825us/step - loss: 0.4952 - acc: 0.8162 - val_loss: 0.8312 - val_acc: 0.7428\n",
      "new jersey est parfois parfois en mars et il est neigeux en avril <PAD> <PAD> <PAD> <PAD> <PAD> <PAD> <PAD> <PAD>\n"
     ]
    }
   ],
   "source": [
    "def encdec_model(input_shape, output_sequence_length, english_vocab_size, french_vocab_size):\n",
    "    \"\"\"\n",
    "    Build and train an encoder-decoder model on x and y\n",
    "    :param input_shape: Tuple of input shape\n",
    "    :param output_sequence_length: Length of output sequence\n",
    "    :param english_vocab_size: Number of unique English words in the dataset\n",
    "    :param french_vocab_size: Number of unique French words in the dataset\n",
    "    :return: Keras model built, but not trained\n",
    "    \"\"\"\n",
    "    # TODO: Implement\n",
    "    model = Sequential()\n",
    "    \n",
    "    # Encoder\n",
    "    model.add(LSTM(256, input_shape=input_shape[1:]))\n",
    "    model.add(RepeatVector(output_sequence_length))    \n",
    "    \n",
    "    # Decoder\n",
    "    model.add(LSTM(256, return_sequences=True))\n",
    "    model.add(Dense(1024, activation='relu'))\n",
    "    model.add(Dense(french_vocab_size, activation='softmax'))\n",
    "    \n",
    "    # Compile model\n",
    "    model.compile(loss=sparse_categorical_crossentropy,\n",
    "                  optimizer=Adam(1e-3),\n",
    "                  metrics=['accuracy'])\n",
    "    return model\n",
    "tests.test_encdec_model(encdec_model)\n",
    "\n",
    "\n",
    "# Reshape the input\n",
    "tmp_x = pad(preproc_english_sentences, max_french_sequence_length)\n",
    "tmp_x = tmp_x.reshape((-1, preproc_french_sentences.shape[-2], 1))\n",
    "\n",
    "# Train the neural network\n",
    "model = encdec_model(\n",
    "    tmp_x.shape,\n",
    "    max_french_sequence_length,\n",
    "    english_vocab_size + 1,\n",
    "    french_vocab_size + 1\n",
    ")\n",
    "model.fit(tmp_x, preproc_french_sentences, batch_size=256, epochs=15, validation_split=0.2)\n",
    "\n",
    "# Print prediction(s)\n",
    "print(logits_to_text(model.predict(tmp_x[:1])[0], french_tokenizer))"
   ]
  },
  {
   "cell_type": "markdown",
   "metadata": {},
   "source": [
    "### Model 5: Custom (IMPLEMENTATION)\n",
    "Use everything you learned from the previous models to create a model that incorporates embedding and a bidirectional rnn into one model."
   ]
  },
  {
   "cell_type": "code",
   "execution_count": 13,
   "metadata": {},
   "outputs": [
    {
     "name": "stdout",
     "output_type": "stream",
     "text": [
      "Final Model Loaded\n"
     ]
    }
   ],
   "source": [
    "def model_final(input_shape, output_sequence_length, english_vocab_size, french_vocab_size):\n",
    "    \"\"\"\n",
    "    Build and train a model that incorporates embedding, encoder-decoder, and bidirectional RNN on x and y\n",
    "    :param input_shape: Tuple of input shape\n",
    "    :param output_sequence_length: Length of output sequence\n",
    "    :param english_vocab_size: Number of unique English words in the dataset\n",
    "    :param french_vocab_size: Number of unique French words in the dataset\n",
    "    :return: Keras model built, but not trained\n",
    "    \"\"\"\n",
    "    # TODO: Implement\n",
    "    model = Sequential()\n",
    "    \n",
    "    # Encoder\n",
    "    model.add(Embedding(input_dim=english_vocab_size, output_dim=32, input_length=input_shape[1], input_shape=input_shape[1:]))\n",
    "    model.add(Bidirectional(LSTM(256)))\n",
    "    model.add(RepeatVector(output_sequence_length))    \n",
    "    \n",
    "    # Decoder\n",
    "    model.add(Bidirectional(LSTM(256, return_sequences=True)))\n",
    "    model.add(Dense(1024, activation='relu'))\n",
    "    model.add(Dense(french_vocab_size, activation='softmax'))\n",
    "    \n",
    "    # Compile model\n",
    "    model.compile(loss=sparse_categorical_crossentropy,\n",
    "                  optimizer=Adam(1e-3),\n",
    "                  metrics=['accuracy'])\n",
    "    return model\n",
    "tests.test_model_final(model_final)\n",
    "\n",
    "\n",
    "print('Final Model Loaded')"
   ]
  },
  {
   "cell_type": "markdown",
   "metadata": {},
   "source": [
    "## Prediction (IMPLEMENTATION)"
   ]
  },
  {
   "cell_type": "code",
   "execution_count": 14,
   "metadata": {},
   "outputs": [
    {
     "name": "stdout",
     "output_type": "stream",
     "text": [
      "Train on 110288 samples, validate on 27573 samples\n",
      "Epoch 1/25\n",
      "110288/110288 [==============================] - 149s 1ms/step - loss: 1.7698 - acc: 0.5762 - val_loss: 1.1937 - val_acc: 0.6638\n",
      "Epoch 2/25\n",
      "110288/110288 [==============================] - 148s 1ms/step - loss: 0.9979 - acc: 0.7121 - val_loss: 0.8482 - val_acc: 0.7450\n",
      "Epoch 3/25\n",
      "110288/110288 [==============================] - 147s 1ms/step - loss: 0.7429 - acc: 0.7716 - val_loss: 0.6233 - val_acc: 0.8041\n",
      "Epoch 4/25\n",
      "110288/110288 [==============================] - 147s 1ms/step - loss: 0.5261 - acc: 0.8332 - val_loss: 0.4305 - val_acc: 0.8628\n",
      "Epoch 5/25\n",
      "110288/110288 [==============================] - 147s 1ms/step - loss: 0.3662 - acc: 0.8854 - val_loss: 0.3127 - val_acc: 0.9014\n",
      "Epoch 6/25\n",
      "110288/110288 [==============================] - 136s 1ms/step - loss: 0.2717 - acc: 0.9138 - val_loss: 0.2492 - val_acc: 0.9197\n",
      "Epoch 7/25\n",
      "110288/110288 [==============================] - 133s 1ms/step - loss: 0.2160 - acc: 0.9307 - val_loss: 0.2057 - val_acc: 0.9349\n",
      "Epoch 8/25\n",
      "110288/110288 [==============================] - 133s 1ms/step - loss: 0.1883 - acc: 0.9390 - val_loss: 0.1728 - val_acc: 0.9451\n",
      "Epoch 9/25\n",
      "110288/110288 [==============================] - 132s 1ms/step - loss: 0.1597 - acc: 0.9484 - val_loss: 0.1675 - val_acc: 0.9467\n",
      "Epoch 10/25\n",
      "110288/110288 [==============================] - 132s 1ms/step - loss: 0.1456 - acc: 0.9530 - val_loss: 0.1446 - val_acc: 0.9541\n",
      "Epoch 11/25\n",
      "110288/110288 [==============================] - 133s 1ms/step - loss: 0.1299 - acc: 0.9586 - val_loss: 0.1349 - val_acc: 0.9564\n",
      "Epoch 12/25\n",
      "110288/110288 [==============================] - 132s 1ms/step - loss: 0.1164 - acc: 0.9628 - val_loss: 0.1258 - val_acc: 0.9608\n",
      "Epoch 13/25\n",
      "110288/110288 [==============================] - 132s 1ms/step - loss: 0.1105 - acc: 0.9648 - val_loss: 0.1335 - val_acc: 0.9581\n",
      "Epoch 14/25\n",
      "110288/110288 [==============================] - 133s 1ms/step - loss: 0.0998 - acc: 0.9686 - val_loss: 0.1191 - val_acc: 0.9635\n",
      "Epoch 15/25\n",
      "110288/110288 [==============================] - 133s 1ms/step - loss: 0.0927 - acc: 0.9709 - val_loss: 0.1069 - val_acc: 0.9677\n",
      "Epoch 16/25\n",
      "110288/110288 [==============================] - 133s 1ms/step - loss: 0.0933 - acc: 0.9710 - val_loss: 0.1111 - val_acc: 0.9670\n",
      "Epoch 17/25\n",
      "110288/110288 [==============================] - 132s 1ms/step - loss: 0.0779 - acc: 0.9759 - val_loss: 0.0954 - val_acc: 0.9715\n",
      "Epoch 18/25\n",
      "110288/110288 [==============================] - 131s 1ms/step - loss: 0.0710 - acc: 0.9783 - val_loss: 0.1022 - val_acc: 0.9699\n",
      "Epoch 19/25\n",
      "110288/110288 [==============================] - 134s 1ms/step - loss: 0.0702 - acc: 0.9785 - val_loss: 0.0895 - val_acc: 0.9743\n",
      "Epoch 20/25\n",
      "110288/110288 [==============================] - 130s 1ms/step - loss: 0.0639 - acc: 0.9805 - val_loss: 0.0902 - val_acc: 0.9742\n",
      "Epoch 21/25\n",
      "110288/110288 [==============================] - 130s 1ms/step - loss: 0.0614 - acc: 0.9815 - val_loss: 0.0903 - val_acc: 0.9743\n",
      "Epoch 22/25\n",
      "110288/110288 [==============================] - 130s 1ms/step - loss: 0.0593 - acc: 0.9822 - val_loss: 0.0912 - val_acc: 0.9739\n",
      "Epoch 23/25\n",
      "110288/110288 [==============================] - 130s 1ms/step - loss: 0.0524 - acc: 0.9845 - val_loss: 0.0882 - val_acc: 0.9758\n",
      "Epoch 24/25\n",
      "110288/110288 [==============================] - 130s 1ms/step - loss: 0.0520 - acc: 0.9847 - val_loss: 0.0848 - val_acc: 0.9772\n",
      "Epoch 25/25\n",
      "110288/110288 [==============================] - 130s 1ms/step - loss: 0.0508 - acc: 0.9850 - val_loss: 0.0867 - val_acc: 0.9762\n",
      "Sample 1:\n",
      "il a vu un vieux camion jaune <PAD> <PAD> <PAD> <PAD> <PAD> <PAD> <PAD> <PAD> <PAD> <PAD> <PAD> <PAD> <PAD> <PAD>\n",
      "Il a vu un vieux camion jaune\n",
      "Sample 2:\n",
      "new jersey est parfois calme pendant l' automne et il est neigeux en avril <PAD> <PAD> <PAD> <PAD> <PAD> <PAD> <PAD>\n",
      "new jersey est parfois calme pendant l' automne et il est neigeux en avril <PAD> <PAD> <PAD> <PAD> <PAD> <PAD> <PAD>\n"
     ]
    }
   ],
   "source": [
    "def final_predictions(x, y, x_tk, y_tk):\n",
    "    \"\"\"\n",
    "    Gets predictions using the final model\n",
    "    :param x: Preprocessed English data\n",
    "    :param y: Preprocessed French data\n",
    "    :param x_tk: English tokenizer\n",
    "    :param y_tk: French tokenizer\n",
    "    \"\"\"\n",
    "    # TODO: Train neural network using model_final\n",
    "\n",
    "    # Train the neural network\n",
    "    model = model_final(\n",
    "        x.shape,\n",
    "        y.shape[1],\n",
    "        len(x_tk.word_index)+1,\n",
    "        len(y_tk.word_index)+1\n",
    "    )\n",
    "    model.fit(x, y, batch_size=256, epochs=25, validation_split=0.2)\n",
    "    \n",
    "    ## DON'T EDIT ANYTHING BELOW THIS LINE\n",
    "    y_id_to_word = {value: key for key, value in y_tk.word_index.items()}\n",
    "    y_id_to_word[0] = '<PAD>'\n",
    "\n",
    "    sentence = 'he saw a old yellow truck'\n",
    "    sentence = [x_tk.word_index[word] for word in sentence.split()]\n",
    "    sentence = pad_sequences([sentence], maxlen=x.shape[-1], padding='post')\n",
    "    sentences = np.array([sentence[0], x[0]])\n",
    "    predictions = model.predict(sentences, len(sentences))\n",
    "\n",
    "    print('Sample 1:')\n",
    "    print(' '.join([y_id_to_word[np.argmax(x)] for x in predictions[0]]))\n",
    "    print('Il a vu un vieux camion jaune')\n",
    "    print('Sample 2:')\n",
    "    print(' '.join([y_id_to_word[np.argmax(x)] for x in predictions[1]]))\n",
    "    print(' '.join([y_id_to_word[np.max(x)] for x in y[0]]))\n",
    "\n",
    "\n",
    "final_predictions(preproc_english_sentences, preproc_french_sentences, english_tokenizer, french_tokenizer)"
   ]
  },
  {
   "cell_type": "markdown",
   "metadata": {},
   "source": [
    "## Submission\n",
    "When you're ready to submit, complete the following steps:\n",
    "1. Review the rubric to ensure your submission meets all requirements to pass\n",
    "2. Generate an HTML version of this notebook\n",
    "\n",
    "  - Run the next cell to attempt automatic generation (this is the recommended method in Workspaces)\n",
    "  - Navigate to **FILE -> Download as -> HTML (.html)**\n",
    "  - Manually generate a copy using `nbconvert` from your shell terminal\n",
    "```\n",
    "$ pip install nbconvert\n",
    "$ python -m nbconvert machine_translation.ipynb\n",
    "```\n",
    "  \n",
    "3. Submit the project\n",
    "\n",
    "  - If you are in a Workspace, simply click the \"Submit Project\" button (bottom towards the right)\n",
    "  \n",
    "  - Otherwise, add the following files into a zip archive and submit them \n",
    "  - `helper.py`\n",
    "  - `machine_translation.ipynb`\n",
    "  - `machine_translation.html`\n",
    "    - You can export the notebook by navigating to **File -> Download as -> HTML (.html)**."
   ]
  },
  {
   "cell_type": "markdown",
   "metadata": {},
   "source": [
    "### Generate the html\n",
    "\n",
    "**Save your notebook before running the next cell to generate the HTML output.** Then submit your project."
   ]
  },
  {
   "cell_type": "code",
   "execution_count": 15,
   "metadata": {},
   "outputs": [
    {
     "data": {
      "text/plain": [
       "['[NbConvertApp] Converting notebook machine_translation.ipynb to html',\n",
       " '[NbConvertApp] Writing 369261 bytes to machine_translation.html',\n",
       " '[NbConvertApp] Converting notebook machine_translation-zh.ipynb to html',\n",
       " '[NbConvertApp] Writing 327943 bytes to machine_translation-zh.html']"
      ]
     },
     "execution_count": 15,
     "metadata": {},
     "output_type": "execute_result"
    }
   ],
   "source": [
    "# Save before you run this cell!\n",
    "!!jupyter nbconvert *.ipynb"
   ]
  },
  {
   "cell_type": "markdown",
   "metadata": {},
   "source": [
    "## Optional Enhancements\n",
    "\n",
    "This project focuses on learning various network architectures for machine translation, but we don't evaluate the models according to best practices by splitting the data into separate test & training sets -- so the model accuracy is overstated. Use the [`sklearn.model_selection.train_test_split()`](http://scikit-learn.org/stable/modules/generated/sklearn.model_selection.train_test_split.html) function to create separate training & test datasets, then retrain each of the models using only the training set and evaluate the prediction accuracy using the hold out test set. Does the \"best\" model change?"
   ]
  }
 ],
 "metadata": {
  "kernelspec": {
   "display_name": "Python 3",
   "language": "python",
   "name": "python3"
  },
  "language_info": {
   "codemirror_mode": {
    "name": "ipython",
    "version": 3
   },
   "file_extension": ".py",
   "mimetype": "text/x-python",
   "name": "python",
   "nbconvert_exporter": "python",
   "pygments_lexer": "ipython3",
   "version": "3.6.3"
  }
 },
 "nbformat": 4,
 "nbformat_minor": 1
}
